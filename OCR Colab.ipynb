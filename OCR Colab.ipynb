{
  "cells": [
    {
      "cell_type": "markdown",
      "metadata": {
        "id": "view-in-github",
        "colab_type": "text"
      },
      "source": [
        "<a href=\"https://colab.research.google.com/github/jenvieve/OCR-grad-project/blob/main/OCR%20Colab.ipynb\" target=\"_parent\"><img src=\"https://colab.research.google.com/assets/colab-badge.svg\" alt=\"Open In Colab\"/></a>"
      ]
    },
    {
      "cell_type": "code",
      "execution_count": null,
      "metadata": {
        "id": "r20OkkmIWRx_"
      },
      "outputs": [],
      "source": [
        "!apt-get install poppler-utils > /dev/null\n",
        "!pip install pytesseract pillow pdf2image textblob ipywidgets googletrans > /dev/null"
      ]
    },
    {
      "cell_type": "code",
      "execution_count": null,
      "metadata": {
        "id": "PEPndDzFZtvQ"
      },
      "outputs": [],
      "source": [
        "import pytesseract\n",
        "from PIL import Image\n",
        "from pdf2image import convert_from_path\n",
        "from textblob import TextBlob\n",
        "import ipywidgets as widgets\n",
        "from IPython.display import display\n",
        "from googletrans import Translator\n",
        "from transformers import pipeline"
      ]
    },
    {
      "cell_type": "code",
      "execution_count": null,
      "metadata": {
        "id": "Lg2RLRD2WftW"
      },
      "outputs": [],
      "source": [
        "from google.colab import files\n",
        "\n",
        "print(\"This is an OCR tool that can help extract text from a document.\")\n",
        "print(\"Please upload one or more Image or PDF files you'd like to process:\")\n",
        "uploaded = files.upload()"
      ]
    },
    {
      "cell_type": "code",
      "source": [
        "ocr_type = input(\"Is the text printed or handwritten? (type 'printed' or 'handwritten'): \").strip().lower()\n",
        "\n",
        "if ocr_type not in [\"printed\", \"handwritten\"]:\n",
        "    print(\"Invalid input. Defaulting to printed.\")\n",
        "    ocr_type = \"printed\"\n",
        "\n",
        "if ocr_type == \"handwritten\":\n",
        "    print(\"Note: Handwriting recognition may be less accurate. It is recommended to enable spell correction at the end.\")"
      ],
      "metadata": {
        "id": "ZwSLosISmmaq"
      },
      "execution_count": null,
      "outputs": []
    },
    {
      "cell_type": "code",
      "source": [
        "def extract_printed_text(file_name):\n",
        "    text = \"\"\n",
        "    if file_name.lower().endswith(\".pdf\"):\n",
        "        pages = convert_from_path(file_name, dpi=300)\n",
        "        for i, page in enumerate(pages, start=1):\n",
        "            print(f\"Page {i}\")\n",
        "            display(page)\n",
        "            text += f\"--- {file_name} (Page {i}) ---\\n\"\n",
        "            text += pytesseract.image_to_string(page) + \"\\n\\n\"\n",
        "    else:\n",
        "        image = Image.open(file_name).convert(\"RGB\")\n",
        "        print(f\"Image: {file_name}\")\n",
        "        display(image)\n",
        "        text += f\"--- {file_name} ---\\n\"\n",
        "        text += pytesseract.image_to_string(image) + \"\\n\\n\"\n",
        "    return text\n",
        "\n",
        "def extract_handwritten_text(file_name):\n",
        "    text = \"\"\n",
        "\n",
        "    def to_grayscale(image_path):\n",
        "        img = cv2.imread(image_path)\n",
        "        gray = cv2.cvtColor(img, cv2.COLOR_BGR2GRAY)\n",
        "        return Image.fromarray(gray)\n",
        "\n",
        "    if file_name.lower().endswith(\".pdf\"):\n",
        "        pages = convert_from_path(file_name, dpi=300)\n",
        "        for i, page in enumerate(pages, start=1):\n",
        "            temp_path = f\"temp_handwritten_{i}.png\"\n",
        "            page.save(temp_path, \"PNG\")\n",
        "            gray_image = to_grayscale(temp_path)\n",
        "            print(f\"Page {i}\")\n",
        "            display(gray_image)\n",
        "            page_text = pytesseract.image_to_string(gray_image, config='--psm 6')\n",
        "            text += f\"--- {file_name} (Page {i}) ---\\n\"\n",
        "            text += page_text + \"\\n\\n\"\n",
        "    else:\n",
        "        gray_image = to_grayscale(file_name)\n",
        "        print(f\"Image: {file_name}\")\n",
        "        display(gray_image)\n",
        "        image_text = pytesseract.image_to_string(gray_image, config='--psm 6')\n",
        "        text += f\"--- {file_name} ---\\n\"\n",
        "        text += image_text + \"\\n\\n\"\n",
        "\n",
        "    return text"
      ],
      "metadata": {
        "id": "-IKjrWaRxJcH"
      },
      "execution_count": null,
      "outputs": []
    },
    {
      "cell_type": "code",
      "source": [
        "extracted_text = \"\"\n",
        "\n",
        "for file_name in uploaded.keys():\n",
        "    print(f\"\\n Processing: {file_name}\")\n",
        "\n",
        "    if ocr_type == \"handwritten\":\n",
        "        result = extract_handwritten_text(file_name)\n",
        "    else:\n",
        "        result = extract_printed_text(file_name)\n",
        "\n",
        "    print(\"Recognized Text:\")\n",
        "    if result.strip():\n",
        "        print(result)\n",
        "    else:\n",
        "        print(\"No readable text found in this file.\")\n",
        "\n",
        "    extracted_text += result"
      ],
      "metadata": {
        "id": "u4npchPJxiPz"
      },
      "execution_count": null,
      "outputs": []
    },
    {
      "cell_type": "code",
      "source": [
        "spell_correct_option = input(\"Would you like to apply spell correction to the extracted text? (yes/no): \").strip().lower()\n",
        "\n",
        "def correct_text(text):\n",
        "    blob = TextBlob(text)\n",
        "    return str(blob.correct())\n",
        "\n",
        "if spell_correct_option == \"yes\":\n",
        "    corrected_text = correct_text(extracted_text)\n",
        "    print(\"\\n Spell correction applied!\")\n",
        "    print(\"\\n Corrected Text:\")\n",
        "    print(corrected_text)\n",
        "else:\n",
        "    corrected_text = extracted_text\n",
        "    print(\"\\n Spell correction skipped.\")"
      ],
      "metadata": {
        "id": "MSx-Ir8okmDI"
      },
      "execution_count": null,
      "outputs": []
    },
    {
      "cell_type": "code",
      "source": [
        "def manual_edit_text():\n",
        "    global extracted_text\n",
        "    print(\"\\n You can edit the extracted text below. After editing, click Confirm Changes.\")\n",
        "\n",
        "    text_area = widgets.Textarea(\n",
        "        value=extracted_text,\n",
        "        placeholder='Edit your text here...',\n",
        "        description='',\n",
        "        disabled=False,\n",
        "        layout=widgets.Layout(width='100%', height='300px')\n",
        "    )\n",
        "\n",
        "    confirm_button = widgets.Button(description=\"Confirm Changes\", button_style='success')\n",
        "    output = widgets.Output()\n",
        "\n",
        "    def on_confirm_clicked(b):\n",
        "        global extracted_text\n",
        "        with output:\n",
        "            extracted_text = text_area.value\n",
        "            print(\"\\n Updated Text Saved Successfully!\")\n",
        "\n",
        "    confirm_button.on_click(on_confirm_clicked)\n",
        "    display(text_area, confirm_button, output)\n",
        "\n",
        "manual_edit = input(\"Do you want to manually edit the text? (yes/no): \").strip().lower()\n",
        "\n",
        "if manual_edit == 'yes':\n",
        "    manual_edit_text()\n",
        "    while True:\n",
        "        proceed = input(\"\\n After confirming, type 'done' to continue: \").strip().lower()\n",
        "        if proceed == 'done':\n",
        "            break\n",
        "        else:\n",
        "            print(\" Waiting... Type 'done' once you confirm.\")"
      ],
      "metadata": {
        "id": "Vti_3QyQgbA8"
      },
      "execution_count": null,
      "outputs": []
    },
    {
      "cell_type": "code",
      "source": [
        "# Menu\n",
        "def display_menu():\n",
        "    print(\"\\n Is there anything else you'd like to do? Please choose an action:\")\n",
        "    print(\"1. Summarize the Text\")\n",
        "    print(\"2. Search the Number of Occurrence of a Word\")\n",
        "    print(\"3. Count Number of Words\")\n",
        "    print(\"4. Translate the Text\")\n",
        "    print(\"5. Nothing, Exit\")\n",
        "\n",
        "    choice = input(\"Enter the number of your choice: \")\n",
        "    return choice\n",
        "\n",
        "# Function to summarize the text\n",
        "def summarize_text(extracted_text):\n",
        "    summarizer = pipeline(\"summarization\")\n",
        "    summary = summarizer(extracted_text, max_length=150, min_length=5, do_sample=False)\n",
        "    return summary[0]['summary_text']\n",
        "\n",
        "# Function to count the number of words in the text\n",
        "def count_words(extracted_text):\n",
        "    words = extracted_text.split()\n",
        "    return len(words)\n",
        "\n",
        "# Function to translate the text\n",
        "def translate_text(extracted_text):\n",
        "    translator = Translator()\n",
        "    detected = translator.detect(extracted_text)\n",
        "    src_lang = detected.lang\n",
        "    print(\"Detected language:\", src_lang)\n",
        "    target_lang = input(\"Enter target language code (codes can be found in this link: https://developers.google.com/workspace/admin/directory/v1/languages): \").strip().lower()\n",
        "    translated = translator.translate(extracted_text, src=src_lang, dest=target_lang)\n",
        "    return translated.text\n",
        "\n",
        "# Function to search how many times a word appeared in the text\n",
        "def search_word(extracted_text, word):\n",
        "    occurrences = extracted_text.lower().count(word.lower())\n",
        "    return occurrences"
      ],
      "metadata": {
        "id": "5oaTt_FA5-H8"
      },
      "execution_count": null,
      "outputs": []
    },
    {
      "cell_type": "code",
      "source": [
        "# Main function\n",
        "def process_text(extracted_text):\n",
        "    final_text = extracted_text\n",
        "\n",
        "    while True:\n",
        "        choice = display_menu()\n",
        "\n",
        "        if choice == '1':\n",
        "            # Summarize the text\n",
        "            summary = summarize_text(extracted_text)\n",
        "            print(\"\\nSummary:\\n\", summary)\n",
        "            final_text += \"\\n\\n--- Summary ---\\n\" + summary\n",
        "            final_text += \"\\n\" + \"-\"*40 + \"\\n\"\n",
        "\n",
        "        elif choice == '2':\n",
        "            # Search how many times a word appeared\n",
        "            word = input(\"Enter the word you want to search for: \")\n",
        "            occurrences = search_word(extracted_text, word)\n",
        "            print(f\"'{word}' found {occurrences} time(s) in the text.\")\n",
        "            final_text += f\"\\n\\n--- Word Search Result ---\\n'{word}' found {occurrences} time(s) in the text.\"\n",
        "            final_text += \"\\n\" + \"-\"*40 + \"\\n\"\n",
        "\n",
        "        elif choice == '3':\n",
        "            # Count the number of words\n",
        "            word_count = count_words(extracted_text)\n",
        "            print(f\"Total number of words: {word_count}\")\n",
        "            final_text += f\"\\n\\n--- Word Count ---\\nTotal number of words: {word_count}\"\n",
        "            final_text += \"\\n\" + \"-\"*40 + \"\\n\"\n",
        "\n",
        "        elif choice == '4':\n",
        "            # Translate the text\n",
        "            translation = translate_text(extracted_text)\n",
        "            print(\"\\nTranslated Text:\\n\", translation)\n",
        "            final_text += \"\\n\\n--- Translated Text ---\\n\" + translation\n",
        "            final_text += \"\\n\" + \"-\"*40 + \"\\n\"\n",
        "\n",
        "        elif choice == '5':\n",
        "            # Exit the loop\n",
        "            print(\"No action selected. Exiting...\\n\")\n",
        "            break\n",
        "\n",
        "        else:\n",
        "            print(\"Invalid choice. Please select a valid option.\")\n",
        "\n",
        "    return final_text\n",
        "\n",
        "# To call the function\n",
        "final_text = process_text(extracted_text)"
      ],
      "metadata": {
        "id": "Ppd0HssT5tnl"
      },
      "execution_count": null,
      "outputs": []
    },
    {
      "cell_type": "code",
      "source": [
        "# Function for extracted text only\n",
        "def preview_and_save_extracted_text(extracted_text):\n",
        "    print(\"\\nPreview of the Extracted Text to be Saved:\")\n",
        "    print(\"\\n\" + \"=\"*50)\n",
        "\n",
        "    # Show preview\n",
        "    print(\"----- Extracted Text -----\")\n",
        "    print(extracted_text)\n",
        "    print(\"=\"*50)\n",
        "\n",
        "    # Ask for confirmation before saving\n",
        "    confirm = input(\"\\n Confirm? (yes/no): \").strip().lower()\n",
        "    if confirm == 'yes':\n",
        "        save_extracted_text_only(extracted_text)\n",
        "    else:\n",
        "        print(\"No content was saved.\")\n",
        "\n",
        "# Function for the entire result (extracted text + menu modifications)\n",
        "def preview_and_save_full_output(extracted_text, final_text):\n",
        "    print(\"\\nPreview of the Full Output to be Saved:\")\n",
        "    print(\"\\n\" + \"=\"*50)\n",
        "\n",
        "    # Show preview\n",
        "    print(\"----- Final Output -----\")\n",
        "    print(final_text)\n",
        "    print(\"=\"*50)\n",
        "\n",
        "    # Ask for confirmation before saving\n",
        "    confirm = input(\"\\n Confirm? (yes/no): \").strip().lower()\n",
        "    if confirm == 'yes':\n",
        "        save_full_output(final_text)\n",
        "    else:\n",
        "        print(\"No content was saved.\")\n",
        "\n",
        "# Function to save the extracted text only\n",
        "def save_extracted_text_only(extracted_text, filename=\"extracted_text_only.txt\"):\n",
        "    with open(filename, 'w') as file:\n",
        "        file.write(\"----- Extracted Text -----\\n\")\n",
        "        file.write(extracted_text)\n",
        "        file.write(\"\\n\\n\")\n",
        "    print(f\"Extracted text saved to {filename}\")\n",
        "\n",
        "# Function to save the entire result\n",
        "def save_full_output(final_text, filename=\"final_output.txt\"):\n",
        "    with open(filename, 'w') as file:\n",
        "        file.write(\"----- Full Output -----\\n\")\n",
        "        file.write(final_text)\n",
        "        file.write(\"\\n\\n\")\n",
        "    print(f\"Full output saved to {filename}\")\n",
        "\n",
        "# Main function\n",
        "def save_output(extracted_text, final_text):\n",
        "    save_choice = input(\"\\nWould you like to save the output? (yes/no): \").strip().lower()\n",
        "\n",
        "    if save_choice == 'yes':\n",
        "        save_type = input(\"\\nDo you want to save only the extracted text or the full result (with actions done in the menu)? (extracted/full): \").strip().lower()\n",
        "\n",
        "        if save_type == \"extracted\":\n",
        "            preview_and_save_extracted_text(extracted_text)\n",
        "        elif save_type == \"full\":\n",
        "            preview_and_save_full_output(extracted_text, final_text)\n",
        "        else:\n",
        "            print(\"Invalid option. No content saved.\")\n",
        "    else:\n",
        "        print(\"You chose not to save the text.\")\n",
        "\n",
        "save_output(extracted_text, final_text)"
      ],
      "metadata": {
        "id": "_iRpE-YMrZQt"
      },
      "execution_count": null,
      "outputs": []
    }
  ],
  "metadata": {
    "colab": {
      "provenance": [],
      "include_colab_link": true
    },
    "kernelspec": {
      "display_name": "Python 3",
      "name": "python3"
    },
    "language_info": {
      "name": "python"
    }
  },
  "nbformat": 4,
  "nbformat_minor": 0
}